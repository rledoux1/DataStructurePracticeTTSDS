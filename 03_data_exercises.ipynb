{
 "cells": [
  {
   "cell_type": "markdown",
   "metadata": {},
   "source": [
    "Data Science Fundamentals: Python |\n",
    "[Table of Contents](../index.ipynb)\n",
    "- - - \n",
    "<!--NAVIGATION-->\n",
    "Module 2. Python Data | [Simple Types](./01_simple_types.ipynb) | [Data Structures](./02_data_structures.ipynb) | **[Exercises](./03_data_exercises.ipynb)**"
   ]
  },
  {
   "cell_type": "markdown",
   "metadata": {},
   "source": [
    "# Module 2: Practice Exercises"
   ]
  },
  {
   "cell_type": "markdown",
   "metadata": {},
   "source": [
    "1. Get a space-separated list of integers from the user, create a tuple of those integers. Then compute and print the result of hash(tuple).  [Hint](https://docs.python.org/3/library/functions.html#hash). **Hash()**"
   ]
  },
  {
   "cell_type": "markdown",
   "metadata": {},
   "source": [
    "A **[hash](https://en.wikipedia.org/wiki/Hash_function)** is an fixed sized integer that identifies a particular value. Each value needs to have its own hash, so for the same value you will get the same hash even if it's not the same object."
   ]
  },
  {
   "cell_type": "code",
   "execution_count": 3,
   "metadata": {},
   "outputs": [
    {
     "name": "stdout",
     "output_type": "stream",
     "text": [
      "[1, 2, 3, 4, 5, 6, 7]\n",
      "316559433289985030\n"
     ]
    }
   ],
   "source": [
    "#Exercise 2\n",
    "# space-separated list of integers\n",
    "\n",
    "listofintegers1 = [1, 2, 3, 4, 5, 6, 7]\n",
    "print (listofintegers1)\n",
    "\n",
    "# creating a tuple\n",
    "t= tuple(listofintegers1)\n",
    "print(hash(t)) # compute and print the result from hash()"
   ]
  },
  {
   "cell_type": "code",
   "execution_count": 2,
   "metadata": {},
   "outputs": [
    {
     "name": "stdout",
     "output_type": "stream",
     "text": [
      "((2+0j), (1+0j))\n",
      "((-1+0j), (-1+0j))\n"
     ]
    },
    {
     "data": {
      "text/plain": [
       "(None, (-1.0, -1.0))"
      ]
     },
     "execution_count": 2,
     "metadata": {},
     "output_type": "execute_result"
    }
   ],
   "source": [
    "# Exercise 1\n",
    "# In mathematics, the quadratic equation ax2+bx+c=0 can be solved with the formula x=−b±b2−4ac√2a.\n",
    "# Write a function \"solve_quadratic\" that returns both solutions of a generic quadratic\n",
    "# as a pair (2-tuple) when the coefficients are given as parameters. It should work like this:\n",
    "\n",
    "# \"print(solve_quadratic(1,-3,2)), (2.0,1.0)\"\n",
    "# \"print(solve_quadratic(1,2,1)), (-1.0,-1.0)\"\n",
    "\n",
    "#You may want to use the \"math.sqrt\" function from the \"math\" module in your solution. \n",
    "#Test that your function works in the main function!\n",
    "\n",
    "import cmath\n",
    "\n",
    "def solve_quadratic(a, b, c):\n",
    "    numerator_1 = -b + cmath.sqrt((b**2) - 4*a*c)\n",
    "    numerator_2 = -b - cmath.sqrt((b**2) - 4*a*c)\n",
    "    solution_1 = numerator_1 / (2*a)\n",
    "    solution_2 = numerator_2 / (2*a)\n",
    "    return (solution_1, solution_2)\n",
    "\n",
    "# Quadratic function : (a * x^2) + b*x + c\"), \"formula: x=−b±b2−4ac√2a\" )\n",
    "print(solve_quadratic(1,-3,2)), (2.0,1.0)\n",
    "print(solve_quadratic(1,2,1)), (-1.0,-1.0)\n"
   ]
  },
  {
   "cell_type": "code",
   "execution_count": null,
   "metadata": {},
   "outputs": [],
   "source": []
  },
  {
   "cell_type": "markdown",
   "metadata": {},
   "source": [
    "### Extra Information:  Explaining:  if __name__ == __main__ in relation with Functions"
   ]
  },
  {
   "cell_type": "code",
   "execution_count": 42,
   "metadata": {},
   "outputs": [
    {
     "name": "stdout",
     "output_type": "stream",
     "text": [
      "Executed when invoked directly\n"
     ]
    }
   ],
   "source": [
    "# Python program to execute  \n",
    "# main directly\n",
    "\n",
    "# block 2\n",
    "if __name__ == \"__main__\": \n",
    "    print(\"Executed when invoked directly\")\n",
    "else: \n",
    "    print(\"Executed when imported\")"
   ]
  },
  {
   "cell_type": "markdown",
   "metadata": {},
   "source": [
    "- All of the code that is at indentation level 0 [Block 1] gets executed. Functions and classes that are defined are, well, defined, but none of their code runs.\n",
    "- Here, as we executed script.py directly __name__ variable will be __main__. So, code in this if block[Block 2] will only run if that module is the entry point to your program.\n",
    "- **Thus, you can test whether your script is being run directly or being imported by something else by testing __name__ variable.**\n",
    "- If script is getting imported by some other module at that time __name__ will be module name."
   ]
  },
  {
   "cell_type": "code",
   "execution_count": 43,
   "metadata": {},
   "outputs": [
    {
     "name": "stdout",
     "output_type": "stream",
     "text": [
      "I am inside function\n"
     ]
    }
   ],
   "source": [
    "# Python program to execute  \n",
    "# function directly \n",
    "def my_function(): \n",
    "      print(\"I am inside function\")\n",
    "  \n",
    "# We can test function by calling it. \n",
    "my_function() "
   ]
  },
  {
   "cell_type": "markdown",
   "metadata": {},
   "source": [
    "Now if we want to use that module by importing we have to comment out our call. Rather than that approach best approach is to use following code:"
   ]
  },
  {
   "cell_type": "markdown",
   "metadata": {},
   "source": [
    "- Every Python module has it’s __name__ defined and if this is ‘__main__’, it implies that the module is being run standalone by the user and we can do corresponding appropriate actions.\n",
    "- If you import this script as a module in another script, the __name__ is set to the name of the script/module.\n",
    "- Python files can act as either reusable modules, or as standalone programs.\n",
    "- if __name__ == “main”: is used to execute some code only if the file was run directly, and not imported."
   ]
  },
  {
   "cell_type": "code",
   "execution_count": 3,
   "metadata": {},
   "outputs": [],
   "source": [
    "from itertools import islice\n",
    "\n",
    "def split_every(n, iterable):\n",
    "    i = iter(iterable)\n",
    "    piece = list(islice(i, n))\n",
    "    while piece:\n",
    "        yield piece\n",
    "        piece = list(islice(i, n))"
   ]
  },
  {
   "cell_type": "markdown",
   "metadata": {},
   "source": [
    "2. Take the following two lists. Create a third list by picking a odd-index elements from the first list and even-index elements from the second."
   ]
  },
  {
   "cell_type": "code",
   "execution_count": 36,
   "metadata": {},
   "outputs": [],
   "source": [
    "list1 = [3, 6, 9, 12, 15, 18, 21]\n",
    "list2 = [4, 8, 12, 16, 20, 24, 28]\n"
   ]
  },
  {
   "cell_type": "code",
   "execution_count": 38,
   "metadata": {},
   "outputs": [
    {
     "name": "stdout",
     "output_type": "stream",
     "text": [
      "[6, 12, 18]\n",
      "[4, 12, 20, 28]\n",
      "[6, 12, 18, 4, 12, 20, 28]\n"
     ]
    }
   ],
   "source": [
    "# Exercise 3\n",
    "# separating odd-index from the first list with even-index from the second list\n",
    "list1 = [3, 6, 9, 12, 15, 18, 21]\n",
    "list2 = [4, 8, 12, 16, 20, 24, 28]\n",
    "results = list()\n",
    "\n",
    "oddelements = list1[1::2]\n",
    "print(oddelements)\n",
    "\n",
    "evenelements = list2[0::2]\n",
    "print(evenelements)\n",
    "\n",
    "results.extend(oddelements)\n",
    "results.extend(evenelements)\n",
    "print(results)"
   ]
  },
  {
   "cell_type": "markdown",
   "metadata": {},
   "source": [
    "3. Take the following list. Slice it into three equal chunks and reverse each list."
   ]
  },
  {
   "cell_type": "code",
   "execution_count": 2,
   "metadata": {},
   "outputs": [],
   "source": [
    "sampleList = [11, 45, 8, 23, 14, 12, 78, 45, 89]"
   ]
  },
  {
   "cell_type": "code",
   "execution_count": 12,
   "metadata": {},
   "outputs": [
    {
     "name": "stdout",
     "output_type": "stream",
     "text": [
      "0 [11, 45, 8]\n",
      "None\n",
      "1 [23, 14, 12]\n",
      "None\n",
      "2 [78, 45, 89]\n",
      "None\n"
     ]
    }
   ],
   "source": [
    "# Exercise 4\n",
    "# calling list\n",
    "sampleList = [11, 45, 8, 23, 14, 12, 78, 45, 89]\n",
    "\n",
    "length = len(sampleList)\n",
    "chunksize = int(length / 3)\n",
    "start = 0\n",
    "end = chunksize\n",
    "\n",
    "# run loop 3 times\n",
    "for i in range(3):\n",
    "    # get indexes\n",
    "    indexes = slice(start, end)\n",
    "    \n",
    "    # get chunk\n",
    "    chunklist = sampleList[indexes]\n",
    "    print(i,chunklist)\n",
    "    \n",
    "    # reverse chunk\n",
    "    print(list.reverse(chunklist))\n",
    "\n",
    "    start = end\n",
    "    end += chunksize"
   ]
  },
  {
   "cell_type": "markdown",
   "metadata": {},
   "source": [
    "4. Iterate through a given list and check if a given element already exists in a dictionary as a key’s value. If not, delete it from the list."
   ]
  },
  {
   "cell_type": "code",
   "execution_count": 3,
   "metadata": {},
   "outputs": [],
   "source": [
    "rollNumber = [47, 64, 69, 37, 76, 83, 95, 97]\n",
    "sampleDict ={'Zach':47, 'Emma':69, 'Kelly':76, 'Jason':97}"
   ]
  },
  {
   "cell_type": "code",
   "execution_count": 14,
   "metadata": {},
   "outputs": [
    {
     "name": "stdout",
     "output_type": "stream",
     "text": [
      "{'Zach': 47, 'Emma': 69, 'Kelly': 76, 'Jason': 97}\n"
     ]
    }
   ],
   "source": [
    "# Exercise 5\n",
    "# verifying the given elements in the dictionary\n",
    "\n",
    "rollNumber = [47, 64, 69, 37, 76, 83, 95, 97]\n",
    "sampleDict ={'Zach':47, 'Emma':69, 'Kelly':76, 'Jason':97}\n",
    "\n",
    "\n",
    "count_dict = dict()\n",
    "for item in sampleDict:\n",
    "    if item in count_dict:\n",
    "        count_dict[item] += 1\n",
    "    else:\n",
    "        count_dict[item] = 1     \n",
    "\n",
    "\n",
    "print(sampleDict)"
   ]
  },
  {
   "cell_type": "markdown",
   "metadata": {},
   "source": [
    "### Extra Information: What is the [Lambda](https://realpython.com/python-lambda/#first-example) function?"
   ]
  },
  {
   "cell_type": "markdown",
   "metadata": {},
   "source": [
    "A Python lambda function behaves like a normal function in regard to arguments."
   ]
  },
  {
   "cell_type": "markdown",
   "metadata": {},
   "source": [
    "Lambda functions are used when you need a function for a short period of time. This is commonly used when you want to pass a function as an argument to higher-order functions, that is, functions that take other functions as their arguments."
   ]
  },
  {
   "cell_type": "code",
   "execution_count": 34,
   "metadata": {},
   "outputs": [
    {
     "data": {
      "text/plain": [
       "'Full name: Guido Van Rossum'"
      ]
     },
     "execution_count": 34,
     "metadata": {},
     "output_type": "execute_result"
    }
   ],
   "source": [
    "full_name = lambda first, last: f'Full name: {first.title()} {last.title()}'\n",
    "full_name('guido', 'van rossum')"
   ]
  },
  {
   "cell_type": "markdown",
   "metadata": {},
   "source": [
    "The lambda function assigned to full_name takes two arguments and returns a string interpolating the two parameters first and last. As expected, the definition of the lambda lists the arguments with no parentheses, whereas calling the function is done exactly like a normal Python function, with parentheses surrounding the arguments."
   ]
  },
  {
   "cell_type": "markdown",
   "metadata": {},
   "source": [
    "5. Choose all the valid string creation in python "
   ]
  },
  {
   "cell_type": "raw",
   "metadata": {},
   "source": [
    "str1 = “str1”\n",
    "str1 = ‘str1’\n",
    "str1 = ”’str1”’\n",
    "str1 = str(“str1”)"
   ]
  },
  {
   "cell_type": "markdown",
   "metadata": {},
   "source": [
    "## Extra Points\n",
    "- - -"
   ]
  },
  {
   "cell_type": "markdown",
   "metadata": {},
   "source": [
    "1. ***Optional Exercise (Extra Points)***.  Write a Python program to convert a tuple to a string."
   ]
  },
  {
   "cell_type": "code",
   "execution_count": 74,
   "metadata": {},
   "outputs": [
    {
     "name": "stdout",
     "output_type": "stream",
     "text": [
      "('mango', 'peaches', 'avocado')\n",
      "<class 'tuple'>\n",
      "\n",
      "\n",
      "<class 'str'>\n"
     ]
    }
   ],
   "source": [
    "# calling the tuple, tuples are immutable/cannot be changed\n",
    "fruits = 'mango', 'peaches', 'avocado'\n",
    "print(fruits)\n",
    "print(type(fruits))\n",
    "\n",
    "# calling the empty string\n",
    "s = ''\n",
    "t = ''\n",
    "# using the loop method\n",
    "for item in t:\n",
    "    s = s + item\n",
    "    \n",
    "#print string\n",
    "print (t)\n",
    "print (s)\n",
    "print(type(s))"
   ]
  },
  {
   "cell_type": "markdown",
   "metadata": {},
   "source": [
    "2. ***Optional Exercise (Extra Points)***.  Write a Python program to check whether an element exists within a tuple."
   ]
  },
  {
   "cell_type": "code",
   "execution_count": 15,
   "metadata": {},
   "outputs": [
    {
     "name": "stdout",
     "output_type": "stream",
     "text": [
      "True\n",
      "False\n"
     ]
    }
   ],
   "source": [
    "t = ('mango', 'peaches', 'avocado')\n",
    "\n",
    "# tuple membership: check in list or not\n",
    "print('mango' in t)\n",
    "print('pineapple' in t)"
   ]
  },
  {
   "cell_type": "markdown",
   "metadata": {},
   "source": [
    "3. ***Optional Exercise (Extra Points)***.  Write a Python program to print a tuple with string formatting."
   ]
  },
  {
   "cell_type": "raw",
   "metadata": {},
   "source": [
    "Sample tuple : (100, 200, 300)\n",
    "Output : This is a tuple (100, 200, 300)"
   ]
  },
  {
   "cell_type": "code",
   "execution_count": 50,
   "metadata": {},
   "outputs": [
    {
     "name": "stdout",
     "output_type": "stream",
     "text": [
      "This is a tuple (100, 200, 300)\n"
     ]
    }
   ],
   "source": [
    "tuple = (100, 200, 300)\n",
    "print('This is a tuple {0}'.format(tuple))"
   ]
  },
  {
   "cell_type": "markdown",
   "metadata": {},
   "source": [
    "- - - \n",
    "<!--NAVIGATION-->\n",
    "Module 2. Python Data | [Simple Types](./01_simple_types.ipynb) | [Data Structures](./02_data_structures.ipynb) | **[Exercises](./03_data_exercises.ipynb)**\n",
    "<br>\n",
    "[Top](#)"
   ]
  },
  {
   "cell_type": "code",
   "execution_count": null,
   "metadata": {},
   "outputs": [],
   "source": []
  },
  {
   "cell_type": "markdown",
   "metadata": {},
   "source": [
    "- - -\n",
    "\n",
    "Copyright © 2020 Qualex Consulting Services Incorporated."
   ]
  }
 ],
 "metadata": {
  "kernelspec": {
   "display_name": "Python 3 (ipykernel)",
   "language": "python",
   "name": "python3"
  },
  "language_info": {
   "codemirror_mode": {
    "name": "ipython",
    "version": 3
   },
   "file_extension": ".py",
   "mimetype": "text/x-python",
   "name": "python",
   "nbconvert_exporter": "python",
   "pygments_lexer": "ipython3",
   "version": "3.9.12"
  }
 },
 "nbformat": 4,
 "nbformat_minor": 4
}
